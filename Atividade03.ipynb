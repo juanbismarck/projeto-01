{
  "nbformat": 4,
  "nbformat_minor": 0,
  "metadata": {
    "colab": {
      "provenance": [],
      "authorship_tag": "ABX9TyMUH0684hr1w89SUmsdEH/2",
      "include_colab_link": true
    },
    "kernelspec": {
      "name": "python3",
      "display_name": "Python 3"
    },
    "language_info": {
      "name": "python"
    }
  },
  "cells": [
    {
      "cell_type": "markdown",
      "metadata": {
        "id": "view-in-github",
        "colab_type": "text"
      },
      "source": [
        "<a href=\"https://colab.research.google.com/github/juanbismarck/projeto-01/blob/main/Untitled4.ipynb\" target=\"_parent\"><img src=\"https://colab.research.google.com/assets/colab-badge.svg\" alt=\"Open In Colab\"/></a>"
      ]
    },
    {
      "cell_type": "code",
      "source": [
        "import pandas as pd\n",
        "import kagglehub\n",
        "import os\n",
        "path = kagglehub.dataset_download(\"hubertsidorowicz/football-players-stats-2024-2025\")\n",
        "players=pd.read_csv(os.path.join(path, 'players_data-2024_2025.csv'))"
      ],
      "metadata": {
        "colab": {
          "base_uri": "https://localhost:8080/"
        },
        "id": "w0euSXfck-FD",
        "outputId": "ad260aa3-f5ff-4d41-8d15-d2d339ac2e5b"
      },
      "execution_count": 2,
      "outputs": [
        {
          "output_type": "stream",
          "name": "stdout",
          "text": [
            "Downloading from https://www.kaggle.com/api/v1/datasets/download/hubertsidorowicz/football-players-stats-2024-2025?dataset_version_number=37...\n"
          ]
        },
        {
          "output_type": "stream",
          "name": "stderr",
          "text": [
            "100%|██████████| 1.17M/1.17M [00:00<00:00, 85.3MB/s]"
          ]
        },
        {
          "output_type": "stream",
          "name": "stdout",
          "text": [
            "Extracting files...\n"
          ]
        },
        {
          "output_type": "stream",
          "name": "stderr",
          "text": [
            "\n"
          ]
        }
      ]
    },
    {
      "cell_type": "code",
      "execution_count": null,
      "metadata": {
        "colab": {
          "base_uri": "https://localhost:8080/"
        },
        "id": "i0AxT8C-yhKo",
        "outputId": "646e3369-7145-4065-8075-41c5d8bdc3c1"
      },
      "outputs": [
        {
          "output_type": "stream",
          "name": "stdout",
          "text": [
            "--------------- Calculando Gols ---------------\n",
            "Média: 4.39 gols por atacante.\n",
            "Mediana: 2.0 gols.\n",
            "Mínimo: 0 gols.\n",
            "Máximo: 28 gols.\n",
            "Desvio Padrão: 5.59 gols.\n",
            "--------------- Calculando assistências ---------------\n",
            "Média : 1.58 assistências por atacante.\n",
            "Mediana: 1.0 assistências.\n",
            "Mínimo: 0 assistências.\n",
            "Máximo: 18 assistências.\n",
            "Desvio Padrão: 2.35 assistências.\n",
            "--------------- Calculando xG ---------------\n",
            "Média : 4.36 xG por atacante.\n",
            "Mediana: 2.7 xG.\n",
            "Mínimo: 0.0 xG.\n",
            "Máximo: 24.4 xG.\n",
            "Desvio Padrão: 4.95 xG.\n"
          ]
        }
      ],
      "source": [
        "somaGls=0\n",
        "cont=0\n",
        "fwGls=players[players['Pos']=='FW']['Gls']\n",
        "for Gls in fwGls:\n",
        "  somaGls+=Gls\n",
        "  cont+=1\n",
        "print('-'*15,'Calculando Gols','-'*15)\n",
        "print(f'Média: {somaGls/cont:.2f} gols por atacante.')\n",
        "mediana_gls=fwGls.median()\n",
        "print(f'Mediana: {mediana_gls} gols.')\n",
        "minimo_gls=fwGls.min()\n",
        "print(f'Mínimo: {minimo_gls} gols.')\n",
        "maximo_gls=fwGls.max()\n",
        "print(f'Máximo: {maximo_gls} gols.')\n",
        "desvioP_gls=fwGls.std()\n",
        "print(f'Desvio Padrão: {desvioP_gls:.2f} gols.')\n",
        "somaAst=0\n",
        "cont=0\n",
        "fwAst=players[players['Pos']=='FW']['Ast']\n",
        "for Ast in fwAst:\n",
        "  somaAst+=Ast\n",
        "  cont+=1\n",
        "print('-'*15,'Calculando assistências','-'*15)\n",
        "print(f'Média : {somaAst/cont:.2f} assistências por atacante.')\n",
        "mediana_ast=fwAst.median()\n",
        "print(f'Mediana: {mediana_ast} assistências.')\n",
        "minimo_ast=fwAst.min()\n",
        "print(f'Mínimo: {minimo_ast} assistências.')\n",
        "maximo_ast=fwAst.max()\n",
        "print(f'Máximo: {maximo_ast} assistências.')\n",
        "desvioP_ast=fwAst.std()\n",
        "print(f'Desvio Padrão: {desvioP_ast:.2f} assistências.')\n",
        "somaxG=0\n",
        "cont=0\n",
        "fwxG=players[players['Pos']=='FW']['xG']\n",
        "for xG in fwxG:\n",
        "  somaxG+=xG\n",
        "  cont+=1\n",
        "print('-'*15, 'Calculando xG','-'*15)\n",
        "print(f'Média : {somaxG/cont:.2f} xG por atacante.')\n",
        "mediana_xG=fwxG.median()\n",
        "print(f'Mediana: {mediana_xG} xG.')\n",
        "minimo_xG=fwxG.min()\n",
        "print(f'Mínimo: {minimo_xG} xG.')\n",
        "maximo_xG=fwxG.max()\n",
        "print(f'Máximo: {maximo_xG} xG.')\n",
        "desvioP_xG=fwxG.std()\n",
        "print(f'Desvio Padrão: {desvioP_xG:.2f} xG.')\n"
      ]
    },
    {
      "cell_type": "markdown",
      "source": [
        "\n",
        "\n",
        "   Com esses dados, podemos dizer que o perfil típico de um jogador ofensivo é:\n",
        "* **Em relação aos gols (Gls)**: Um atacante típico marca 4.39 gols por temporada, variando 5.59 para mais ou para menos. O número de gols varia entre 0 e 28 e a mediana de 2 gols sugere que metade dos atacantes marcaram 2 gols ou menos enquanto a outra metade marcou entre 2 e 28 gols. Podemos concluir que há uma grande dispersão entre o número de gols dos atacantes, os dados são bastante heterogêneos.\n",
        "* **Em relação ás assistências (Ast)**: Um atacante típico dá 1.58 assistências na temporada, variando 2.35 para mais ou para menos.A mediana sugere que metade dos jogadores deu 1 assistência ou menos enquanto a outra metade deu entre 1 e 18 assistências, o que também mostra grande dispersão no número de assistências, enquanto alguns não dão nenhuma assistência, enquanto outros podem alcançar números muito altos(18).\n",
        "* **Em relaçao aos gols esperados (xG)**: Um atacante típico tem 4.36 de xG, mas a mediana sugere que metade deles tem números menores ou igual a 2.7. Também é possível identificar grande dispersão nesse parâmetro, enquanto alguns não tem nenhum gol esperado, outros têm números absurdos próximos de 24.4 gols esperados\n",
        "\n"
      ],
      "metadata": {
        "id": "s-OFlNy9pFV5"
      }
    },
    {
      "cell_type": "code",
      "source": [
        "print('-'*15,'Calculando média e desvio padrão de minutos por idade','-'*15)\n",
        "print('-'*10,'até 20 anos','-'*10)\n",
        "somaMin=0\n",
        "cont=0\n",
        "min020=players[players['Age']<=20]['Min']\n",
        "for Min in min020:\n",
        "  somaMin+=Min\n",
        "  cont+=1\n",
        "print(f'Média: {somaMin/cont:.2f} minutos para jogadores até 20 anos.')\n",
        "desvioP_min=min020.std()\n",
        "print(f'Desvio Padrão: {desvioP_min:.2f} minutos para jogadores até 20 anos.')\n",
        "print('-'*10,'entre 21 e 25 anos','-'*10)\n",
        "somamin=0\n",
        "cont=0\n",
        "min21=players['Age'] >= 21\n",
        "min25=players['Age'] <= 25\n",
        "min2125=players[min21 & min25]['Min']\n",
        "for Min in min2125:\n",
        "  somaMin+=Min\n",
        "  cont+=1\n",
        "print(f'Média: {somaMin/cont:.2f} minutos para jogadores entre 21 e 25 anos.')\n",
        "desvioP_min=min2125.std()\n",
        "print(f'Desvio Padrão: {desvioP_min:.2f} minutos para jogadores entre 21 e 25 anos.')\n",
        "print('-'*10,'entre 26 e 30 anos','-'*10)\n",
        "somamin=0\n",
        "cont=0\n",
        "min26=players['Age']>=26\n",
        "min30=players['Age']<=30\n",
        "min2630=players[min26 & min30]['Min']\n",
        "for Min in min2125:\n",
        "  somaMin+=Min\n",
        "  cont+=1\n",
        "print(f'Média: {somaMin/cont:.2f} minutos para jogadores entre 26 e 30 anos.')\n",
        "desvioP_min=min2630.std()\n",
        "print(f'Desvio Padrão: {desvioP_min:.2f} minutos para jogadores entre 26 e 30 anos.')\n",
        "print('-'*10,'mais de 30 anos','-'*10)\n",
        "somaMin=0\n",
        "cont=0\n",
        "min30=players[players['Age']>30]['Min']\n",
        "for Min in min30:\n",
        "  somaMin+=Min\n",
        "  cont+=1\n",
        "print(f'Média: {somaMin/cont:.2f} minutos para jogadores com mais de 30 anos.')\n",
        "desvioP_min=min30.std()\n",
        "print(f'Desvio Padrão: {desvioP_min:.2f} minutos para jogadores com mais de 30 anos.')"
      ],
      "metadata": {
        "colab": {
          "base_uri": "https://localhost:8080/"
        },
        "id": "LKTajix3VDsR",
        "outputId": "bff68b10-f5ab-4a42-cdb3-9f600189a27c"
      },
      "execution_count": 3,
      "outputs": [
        {
          "output_type": "stream",
          "name": "stdout",
          "text": [
            "--------------- Calculando média e desvio padrão de minutos por idade ---------------\n",
            "---------- até 20 anos ----------\n",
            "Média: 507.63 minutos para jogadores até 20 anos.\n",
            "Desvio Padrão: 683.84 minutos para jogadores até 20 anos.\n",
            "---------- entre 21 e 25 anos ----------\n",
            "Média: 1358.12 minutos para jogadores entre 21 e 25 anos.\n",
            "Desvio Padrão: 929.57 minutos para jogadores entre 21 e 25 anos.\n",
            "---------- entre 26 e 30 anos ----------\n",
            "Média: 2543.81 minutos para jogadores entre 26 e 30 anos.\n",
            "Desvio Padrão: 937.46 minutos para jogadores entre 26 e 30 anos.\n",
            "---------- mais de 30 anos ----------\n",
            "Média: 1391.94 minutos para jogadores com mais de 30 anos.\n",
            "Desvio Padrão: 945.83 minutos para jogadores com mais de 30 anos.\n"
          ]
        }
      ]
    },
    {
      "cell_type": "markdown",
      "source": [
        "Com esses dados podemos definir que:\n",
        "* Para jogadores até 20 anos temos uma média baixa com alto desvio padrão, portanto os jogadores tendem a ter poucos minutos com muita variabilidade, ou seja, temos algumas joias fora da curva que recebem minutos consideráveis mas outros que ainda não estão prontos.\n",
        "* Para jogadores entre 21 e 25 anos temos um aumento considerável em relação aos jogadores da faixa etária anterior, o que indica que jogadores estão mais prontos com essa idade, porém, o desvio padrão continua alto, indicando que ainda existe disparidade entre jogadores.\n",
        "* Entre 26 e 30 anos temos a maior média de minutos embora o desvio seja muito próximo da faixa anterior. Esses jogadores tendem a ser os mais utilizados indicando que a maioria está no auge durante essa faixa etária.\n",
        "* Para jogadores maiores de 30 anos temos uma média de minutos menor e um desvio padrão maior, provavelmente isso se deve por ser a faixa com mais jogadores e, quanto mais velho é o jogador ele tende a receber menos minutos por questões físicas."
      ],
      "metadata": {
        "id": "_q1C6jm9zlsR"
      }
    }
  ]
}
